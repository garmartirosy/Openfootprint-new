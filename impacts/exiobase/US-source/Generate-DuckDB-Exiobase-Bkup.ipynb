{
  "cells": [
    {
      "cell_type": "markdown",
      "source": [
        "# Generate DuckDB Exiobase\n",
        "Pulls create-database.yaml directly from Github.  \n",
        "This colab resides at: https://colab.research.google.com/drive/1Wm9Bvi9pC66xNtxKHfaJEeIYuXKpb1TA?usp=sharing   \n",
        "Backup: https://github.com/ModelEarth/OpenFootprint/blob/main/impacts/exiobase/US-source/create-database-bkup.ipynb"
      ],
      "metadata": {
        "id": "Mqp0mrsrowSn"
      },
      "id": "Mqp0mrsrowSn"
    },
    {
      "cell_type": "code",
      "execution_count": null,
      "id": "71527398",
      "metadata": {
        "id": "71527398"
      },
      "outputs": [],
      "source": [
        "import yaml\n",
        "import pandas as pd\n",
        "import duckdb\n",
        "import requests\n",
        "import base64\n",
        "import sqlalchemy\n",
        "from sqlalchemy import create_engine, Table, MetaData # Table, MetaData were from ChatGPT\n",
        "\n",
        "# User inputs for GitHub - These are optional. We will instead load from a local file.\n",
        "saveToGitHub = False\n",
        "github_token = 'your_github_personal_access_token'\n",
        "repo_owner = 'your_github_username'\n",
        "repo_name = 'your_github_repo'\n",
        "commit_message = 'Add DuckDB database file'\n",
        "\n",
        "file_name = 'US-2020-17schema.duckdb'"
      ]
    },
    {
      "cell_type": "code",
      "execution_count": null,
      "id": "e2882f1d",
      "metadata": {
        "id": "e2882f1d"
      },
      "outputs": [],
      "source": [
        "# Load the YAML configuration file\n",
        "createDatabaseYaml = \"https://raw.githubusercontent.com/ModelEarth/OpenFootprint/main/impacts/exiobase/US-source/create-database.yaml\"\n",
        "try:\n",
        "    response = requests.get(createDatabaseYaml)\n",
        "    response.raise_for_status()  # Ensure we raise an error for bad status codes\n",
        "    config = yaml.safe_load(response.text)\n",
        "except Exception as e:\n",
        "    print(f\"Failed to load the YAML file from URL: {e}\")\n",
        "    exit(1)\n",
        "\n",
        "# TO DO: Display the yaml on the right side\n",
        "# Like we do in \"Run Models\" colab at model.earth/RealityStream"
      ]
    },
    {
      "cell_type": "code",
      "execution_count": null,
      "id": "b775bd97",
      "metadata": {
        "id": "b775bd97",
        "colab": {
          "base_uri": "https://localhost:8080/"
        },
        "outputId": "7e00a98b-7e2a-4a71-baaa-406e4880e095"
      },
      "outputs": [
        {
          "metadata": {
            "tags": null
          },
          "name": "stdout",
          "output_type": "stream",
          "text": [
            "Load: https://raw.githubusercontent.com/ModelEarth/OpenFootprint/main/impacts/exiobase/US-source/2020/Commodity.csv\n"
          ]
        },
        {
          "metadata": {
            "tags": null
          },
          "name": "stderr",
          "output_type": "stream",
          "text": [
            "<ipython-input-24-5be1cbc90a5a>:44: UserWarning: pandas only supports SQLAlchemy connectable (engine/connection) or database string URI or sqlite3 DBAPI2 connection. Other DBAPI2 objects are not tested. Please consider using SQLAlchemy.\n",
            "  df.to_sql(table_name, con, if_exists='replace', index=False)\n"
          ]
        },
        {
          "metadata": {
            "tags": null
          },
          "name": "stdout",
          "output_type": "stream",
          "text": [
            "Load: https://raw.githubusercontent.com/ModelEarth/OpenFootprint/main/impacts/exiobase/US-source/2020/US_summary_import_factors_exio_2020_17sch.csv\n"
          ]
        },
        {
          "metadata": {
            "tags": null
          },
          "name": "stderr",
          "output_type": "stream",
          "text": [
            "<ipython-input-24-5be1cbc90a5a>:44: UserWarning: pandas only supports SQLAlchemy connectable (engine/connection) or database string URI or sqlite3 DBAPI2 connection. Other DBAPI2 objects are not tested. Please consider using SQLAlchemy.\n",
            "  df.to_sql(table_name, con, if_exists='replace', index=False)\n"
          ]
        },
        {
          "metadata": {
            "tags": null
          },
          "name": "stdout",
          "output_type": "stream",
          "text": [
            "Load: https://raw.githubusercontent.com/ModelEarth/OpenFootprint/main/impacts/exiobase/US-source/2020/US_summary_import_factors_exio_2020_17sch.csv\n"
          ]
        },
        {
          "metadata": {
            "tags": null
          },
          "name": "stderr",
          "output_type": "stream",
          "text": [
            "<ipython-input-24-5be1cbc90a5a>:44: UserWarning: pandas only supports SQLAlchemy connectable (engine/connection) or database string URI or sqlite3 DBAPI2 connection. Other DBAPI2 objects are not tested. Please consider using SQLAlchemy.\n",
            "  df.to_sql(table_name, con, if_exists='replace', index=False)\n"
          ]
        },
        {
          "metadata": {
            "tags": null
          },
          "name": "stdout",
          "output_type": "stream",
          "text": [
            "Load: https://raw.githubusercontent.com/ModelEarth/OpenFootprint/main/impacts/exiobase/US-source/2020/US_detail_import_factors_exio_2020_17sch.csv\n"
          ]
        },
        {
          "metadata": {
            "tags": null
          },
          "name": "stderr",
          "output_type": "stream",
          "text": [
            "<ipython-input-24-5be1cbc90a5a>:44: UserWarning: pandas only supports SQLAlchemy connectable (engine/connection) or database string URI or sqlite3 DBAPI2 connection. Other DBAPI2 objects are not tested. Please consider using SQLAlchemy.\n",
            "  df.to_sql(table_name, con, if_exists='replace', index=False)\n"
          ]
        },
        {
          "metadata": {
            "tags": null
          },
          "name": "stdout",
          "output_type": "stream",
          "text": [
            "Load: https://raw.githubusercontent.com/ModelEarth/OpenFootprint/main/impacts/exiobase/US-source/2020/Regional_summary_import_factors_exio_2020_17sch.csv\n"
          ]
        },
        {
          "metadata": {
            "tags": null
          },
          "name": "stderr",
          "output_type": "stream",
          "text": [
            "<ipython-input-24-5be1cbc90a5a>:44: UserWarning: pandas only supports SQLAlchemy connectable (engine/connection) or database string URI or sqlite3 DBAPI2 connection. Other DBAPI2 objects are not tested. Please consider using SQLAlchemy.\n",
            "  df.to_sql(table_name, con, if_exists='replace', index=False)\n"
          ]
        },
        {
          "metadata": {
            "tags": null
          },
          "name": "stdout",
          "output_type": "stream",
          "text": [
            "Load: https://raw.githubusercontent.com/ModelEarth/OpenFootprint/main/impacts/exiobase/US-source/2020/Regional_detail_import_factors_exio_2020_17sch.csv\n"
          ]
        },
        {
          "metadata": {
            "tags": null
          },
          "name": "stderr",
          "output_type": "stream",
          "text": [
            "<ipython-input-24-5be1cbc90a5a>:44: UserWarning: pandas only supports SQLAlchemy connectable (engine/connection) or database string URI or sqlite3 DBAPI2 connection. Other DBAPI2 objects are not tested. Please consider using SQLAlchemy.\n",
            "  df.to_sql(table_name, con, if_exists='replace', index=False)\n"
          ]
        },
        {
          "metadata": {
            "tags": null
          },
          "name": "stdout",
          "output_type": "stream",
          "text": [
            "Load: https://raw.githubusercontent.com/ModelEarth/OpenFootprint/main/impacts/exiobase/US-source/2020/country_contributions_by_sector_2020.csv\n"
          ]
        },
        {
          "metadata": {
            "tags": null
          },
          "name": "stderr",
          "output_type": "stream",
          "text": [
            "<ipython-input-24-5be1cbc90a5a>:44: UserWarning: pandas only supports SQLAlchemy connectable (engine/connection) or database string URI or sqlite3 DBAPI2 connection. Other DBAPI2 objects are not tested. Please consider using SQLAlchemy.\n",
            "  df.to_sql(table_name, con, if_exists='replace', index=False)\n"
          ]
        },
        {
          "metadata": {
            "tags": null
          },
          "name": "stdout",
          "output_type": "stream",
          "text": [
            "Load: https://raw.githubusercontent.com/ModelEarth/OpenFootprint/main/impacts/exiobase/US-source/2020/multiplier_df_exio_2020_17sch.csv\n"
          ]
        },
        {
          "metadata": {
            "tags": null
          },
          "name": "stderr",
          "output_type": "stream",
          "text": [
            "<ipython-input-24-5be1cbc90a5a>:44: UserWarning: pandas only supports SQLAlchemy connectable (engine/connection) or database string URI or sqlite3 DBAPI2 connection. Other DBAPI2 objects are not tested. Please consider using SQLAlchemy.\n",
            "  df.to_sql(table_name, con, if_exists='replace', index=False)\n"
          ]
        }
      ],
      "source": [
        "# GitHub path to source files for Commodity.csv, etc.\n",
        "sourcePath = \"https://raw.githubusercontent.com/ModelEarth/OpenFootprint/main/impacts/exiobase/US-source/2020/\"\n",
        "\n",
        "# Function to convert column names to CamelCase without underscores\n",
        "def to_camel_case(snake_str):\n",
        "    components = snake_str.split('_')\n",
        "    return components[0].capitalize() + ''.join(x.title() for x in components[1:])\n",
        "\n",
        "# Create DuckDB connection\n",
        "con = duckdb.connect(database='example.duckdb', read_only=False)\n",
        "\n",
        "# Process each table in the YAML configuration\n",
        "for table_name, table_config in config.items():\n",
        "    csv_file = table_config['source']\n",
        "    print(f\"Load: \" + sourcePath + csv_file)\n",
        "    df = pd.read_csv(sourcePath + csv_file)\n",
        "\n",
        "    columns_map = table_config.get('columns', {})\n",
        "    omit_columns = table_config.get('omit', [])\n",
        "\n",
        "    # Drop omitted columns\n",
        "    df.drop(columns=omit_columns, errors='ignore', inplace=True)\n",
        "\n",
        "    # Rename columns as per the YAML configuration\n",
        "    df.rename(columns=columns_map, inplace=True)\n",
        "\n",
        "    # Generate new column names for remaining columns\n",
        "    new_columns = {}\n",
        "    for col in df.columns:\n",
        "        if col not in columns_map.values():\n",
        "            new_columns[col] = to_camel_case(col)\n",
        "    df.rename(columns=new_columns, inplace=True)\n",
        "\n",
        "    # Exclude 'Year' column if not explicitly included in columns_map\n",
        "    if 'Year' not in columns_map.values() and 'Year' in df.columns:\n",
        "        df.drop(columns=['Year'], inplace=True)\n",
        "\n",
        "    # Append \"US\" to the table name\n",
        "    table_name = table_name + \"US\"\n",
        "\n",
        "    # Insert/Update the data into the DuckDB database\n",
        "    df.to_sql(table_name, con, if_exists='replace', index=False)\n",
        "\n",
        "# Close the DuckDB connection\n",
        "con.close()\n",
        "\n",
        "# After the eight .csv files are loaded, this panel runs for at least 20 more minutes.\n",
        "# The resulting 8.4MB US-2020-17schema.duckdb file reside to the left in the folder.\n"
      ]
    },
    {
      "cell_type": "code",
      "execution_count": null,
      "id": "21096947",
      "metadata": {
        "id": "21096947"
      },
      "outputs": [],
      "source": [
        "# The resulting US-2020-17schema.duckdb file was manually placed here:\n",
        "# https://github.com/ModelEarth/OpenFootprint/tree/main/impacts/exiobase/US-source\n",
        "\n",
        "# Push the DuckDB file to GitHub - Not yet implemented\n",
        "if saveToGitHub == True:\n",
        "    push_to_github(file_name, github_token, repo_owner, repo_name, commit_message, file_name)\n",
        "\n",
        "# Function to push the DuckDB file to GitHub\n",
        "def push_to_github(file_path, github_token, repo_owner, repo_name, commit_message, file_name):\n",
        "    with open(file_path, 'rb') as f:\n",
        "        content = f.read()\n",
        "    content_base64 = base64.b64encode(content).decode('utf-8')\n",
        "\n",
        "    url = f\"https://api.github.com/repos/{repo_owner}/{repo_name}/contents/{file_name}\"\n",
        "    headers = {\n",
        "        'Authorization': f'token {github_token}',\n",
        "        'Content-Type': 'application/json'\n",
        "    }\n",
        "    data = {\n",
        "        'message': commit_message,\n",
        "        'content': content_base64\n",
        "    }\n",
        "    response = requests.put(url, headers=headers, json=data)\n",
        "    if response.status_code == 201:\n",
        "        print('File successfully pushed to GitHub.')\n",
        "    else:\n",
        "        print(f'Failed to push file to GitHub: {response.json()}')"
      ]
    },
    {
      "cell_type": "code",
      "execution_count": null,
      "id": "8b5350da",
      "metadata": {
        "id": "8b5350da"
      },
      "outputs": [],
      "source": []
    },
    {
      "cell_type": "code",
      "execution_count": null,
      "id": "7e4888e8",
      "metadata": {
        "id": "7e4888e8"
      },
      "outputs": [],
      "source": []
    },
    {
      "cell_type": "code",
      "execution_count": null,
      "id": "edfc695b",
      "metadata": {
        "id": "edfc695b"
      },
      "outputs": [],
      "source": []
    }
  ],
  "metadata": {
    "kernelspec": {
      "display_name": "Python 3 (ipykernel)",
      "language": "python",
      "name": "python3"
    },
    "language_info": {
      "codemirror_mode": {
        "name": "ipython",
        "version": 3
      },
      "file_extension": ".py",
      "mimetype": "text/x-python",
      "name": "python",
      "nbconvert_exporter": "python",
      "pygments_lexer": "ipython3",
      "version": "3.9.13"
    },
    "colab": {
      "provenance": []
    }
  },
  "nbformat": 4,
  "nbformat_minor": 5
}